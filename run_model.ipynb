{
 "cells": [
  {
   "cell_type": "code",
   "execution_count": 1,
   "metadata": {},
   "outputs": [],
   "source": [
    "from models.classifier import TransformerEncoder\n",
    "from pytorch_lightning import Trainer\n",
    "import torch"
   ]
  },
  {
   "cell_type": "code",
   "execution_count": 2,
   "metadata": {},
   "outputs": [],
   "source": [
    "hparams = {\n",
    "    \"hidden_size\": 48,  # size of the hidden layers and embeddings\n",
    "    \"hidden_ff\": 96,  # size of the position-wise feed-forward layer\n",
    "    \"n_encoders\": 4,  # number of encoder blocks\n",
    "    \"n_heads\": 2,  # number of attention heads in the multiheadattention module\n",
    "    \"n_local\": 2,  # number of local attention heads\n",
    "    \"local_window_size\": 4,  # size of the window for local attention\n",
    "    'batch_size': 4,\n",
    "    \"max_length\": 30,  # maximum length of the input sequence\n",
    "    \"vocab_size\": 100,  # size of the vocabulary\n",
    "    \"learning_rate\": 0.001,\n",
    "    \"num_epochs\": 30,\n",
    "    \"attention_type\": \"performer\",\n",
    "    \"norm_type\": \"rezero\",\n",
    "    \"num_random_features\": 32,  # number of random features for the Attention module (Performer uses this)\n",
    "    \"emb_dropout\": 0.1,  # dropout for the embedding block\n",
    "    \"fw_dropout\": 0.1,  # dropout for the position-wise feed-forward layer\n",
    "    \"att_dropout\": 0.1,  # dropout for the multiheadattention module\n",
    "    \"dc_dropout\": 0.1,  # dropout for the decoder block\n",
    "    \"hidden_act\": \"swish\",  # activation function for the hidden layers (attention layers use ReLU)\n",
    "    \"epsilon\": 1e-8,\n",
    "    \"weight_decay\": 0.01,\n",
    "    \"beta1\": 0.9,\n",
    "    \"beta2\": 0.999,\n",
    "}\n",
    "model = TransformerEncoder(hparams)"
   ]
  },
  {
   "cell_type": "markdown",
   "metadata": {},
   "source": [
    "#### Sanity Check"
   ]
  },
  {
   "cell_type": "code",
   "execution_count": 3,
   "metadata": {},
   "outputs": [],
   "source": [
    "batch = {\n",
    "    'tokens': torch.randint(0, model.hparams.vocab_size, (model.hparams.batch_size, model.hparams.max_length)),\n",
    "    'abspos': torch.arange(0, model.hparams.max_length).unsqueeze(0).repeat(model.hparams.batch_size, 1),\n",
    "    'age': torch.randint(0, 100, (model.hparams.batch_size, 1)).repeat(1, model.hparams.max_length),\n",
    "    'padding_mask': torch.zeros(model.hparams.batch_size, model.hparams.max_length),\n",
    "    'targets': torch.randint(0, 2, (model.hparams.batch_size, 1)).float(),\n",
    "}"
   ]
  },
  {
   "cell_type": "code",
   "execution_count": 4,
   "metadata": {},
   "outputs": [
    {
     "data": {
      "text/plain": [
       "{'tokens': tensor([[ 3, 72, 16, 92, 63, 80,  1,  3, 35,  3, 18,  9, 88, 70, 21, 76, 16, 58,\n",
       "          11, 57, 51, 67, 79, 91, 62, 63, 10, 65, 36, 61],\n",
       "         [19, 24, 65, 39, 60,  0,  0, 14, 62, 11, 13, 46, 11, 99, 40, 86, 24, 57,\n",
       "          94, 13,  7, 23, 70, 88, 82, 70, 93, 94, 15, 33],\n",
       "         [91, 57, 30,  4, 48, 61, 11, 52, 55, 33, 82, 49, 44, 78, 74, 56, 30, 89,\n",
       "          11, 93, 49, 85,  1, 62,  6, 52, 85, 83, 99, 39],\n",
       "         [21,  2, 21, 52,  9, 63,  6, 37, 84, 21, 13, 87, 73, 42, 91, 61, 69, 58,\n",
       "          99, 87, 76, 42, 41,  3, 42, 64, 92, 96, 18, 84]]),\n",
       " 'abspos': tensor([[ 0,  1,  2,  3,  4,  5,  6,  7,  8,  9, 10, 11, 12, 13, 14, 15, 16, 17,\n",
       "          18, 19, 20, 21, 22, 23, 24, 25, 26, 27, 28, 29],\n",
       "         [ 0,  1,  2,  3,  4,  5,  6,  7,  8,  9, 10, 11, 12, 13, 14, 15, 16, 17,\n",
       "          18, 19, 20, 21, 22, 23, 24, 25, 26, 27, 28, 29],\n",
       "         [ 0,  1,  2,  3,  4,  5,  6,  7,  8,  9, 10, 11, 12, 13, 14, 15, 16, 17,\n",
       "          18, 19, 20, 21, 22, 23, 24, 25, 26, 27, 28, 29],\n",
       "         [ 0,  1,  2,  3,  4,  5,  6,  7,  8,  9, 10, 11, 12, 13, 14, 15, 16, 17,\n",
       "          18, 19, 20, 21, 22, 23, 24, 25, 26, 27, 28, 29]]),\n",
       " 'age': tensor([[72, 72, 72, 72, 72, 72, 72, 72, 72, 72, 72, 72, 72, 72, 72, 72, 72, 72,\n",
       "          72, 72, 72, 72, 72, 72, 72, 72, 72, 72, 72, 72],\n",
       "         [38, 38, 38, 38, 38, 38, 38, 38, 38, 38, 38, 38, 38, 38, 38, 38, 38, 38,\n",
       "          38, 38, 38, 38, 38, 38, 38, 38, 38, 38, 38, 38],\n",
       "         [33, 33, 33, 33, 33, 33, 33, 33, 33, 33, 33, 33, 33, 33, 33, 33, 33, 33,\n",
       "          33, 33, 33, 33, 33, 33, 33, 33, 33, 33, 33, 33],\n",
       "         [63, 63, 63, 63, 63, 63, 63, 63, 63, 63, 63, 63, 63, 63, 63, 63, 63, 63,\n",
       "          63, 63, 63, 63, 63, 63, 63, 63, 63, 63, 63, 63]]),\n",
       " 'padding_mask': tensor([[0., 0., 0., 0., 0., 0., 0., 0., 0., 0., 0., 0., 0., 0., 0., 0., 0., 0., 0., 0., 0., 0., 0., 0.,\n",
       "          0., 0., 0., 0., 0., 0.],\n",
       "         [0., 0., 0., 0., 0., 0., 0., 0., 0., 0., 0., 0., 0., 0., 0., 0., 0., 0., 0., 0., 0., 0., 0., 0.,\n",
       "          0., 0., 0., 0., 0., 0.],\n",
       "         [0., 0., 0., 0., 0., 0., 0., 0., 0., 0., 0., 0., 0., 0., 0., 0., 0., 0., 0., 0., 0., 0., 0., 0.,\n",
       "          0., 0., 0., 0., 0., 0.],\n",
       "         [0., 0., 0., 0., 0., 0., 0., 0., 0., 0., 0., 0., 0., 0., 0., 0., 0., 0., 0., 0., 0., 0., 0., 0.,\n",
       "          0., 0., 0., 0., 0., 0.]]),\n",
       " 'targets': tensor([[0.],\n",
       "         [1.],\n",
       "         [0.],\n",
       "         [0.]])}"
      ]
     },
     "execution_count": 4,
     "metadata": {},
     "output_type": "execute_result"
    }
   ],
   "source": [
    "batch"
   ]
  },
  {
   "cell_type": "code",
   "execution_count": 5,
   "metadata": {},
   "outputs": [
    {
     "data": {
      "text/plain": [
       "{'logits': tensor([[0.6862],\n",
       "         [0.6543],\n",
       "         [0.8233],\n",
       "         [0.6555]], grad_fn=<AddmmBackward0>),\n",
       " 'preds': tensor([[0.6651],\n",
       "         [0.6580],\n",
       "         [0.6949],\n",
       "         [0.6582]], grad_fn=<SigmoidBackward0>)}"
      ]
     },
     "execution_count": 5,
     "metadata": {},
     "output_type": "execute_result"
    }
   ],
   "source": [
    "model(batch)"
   ]
  },
  {
   "cell_type": "code",
   "execution_count": 6,
   "metadata": {},
   "outputs": [
    {
     "data": {
      "text/plain": [
       "tensor(0.9925, grad_fn=<BinaryCrossEntropyWithLogitsBackward0>)"
      ]
     },
     "execution_count": 6,
     "metadata": {},
     "output_type": "execute_result"
    }
   ],
   "source": [
    "model.training_step(batch, 0)"
   ]
  },
  {
   "cell_type": "code",
   "execution_count": 7,
   "metadata": {},
   "outputs": [
    {
     "name": "stdout",
     "output_type": "stream",
     "text": [
      "\n",
      "Train Metrics\n",
      "\tLoss: 0.993\n",
      "\tAccuracy: 0.250\n",
      "\tMCC: -0.577\n",
      "\n"
     ]
    },
    {
     "name": "stderr",
     "output_type": "stream",
     "text": [
      "/Users/carlomarx/.local/share/virtualenvs/life2vec-light-Ez8u7ZRp-python/lib/python3.11/site-packages/pytorch_lightning/core/module.py:447: You are trying to `self.log()` but the `self.trainer` reference is not registered on the model yet. This is most likely because the model hasn't been passed to the `Trainer`\n"
     ]
    }
   ],
   "source": [
    "model.on_train_epoch_end()"
   ]
  },
  {
   "cell_type": "markdown",
   "metadata": {},
   "source": [
    "### Full pipeline would be something like"
   ]
  },
  {
   "cell_type": "code",
   "execution_count": 8,
   "metadata": {},
   "outputs": [],
   "source": [
    "from dataloaders.synthetic import SyntheticDataModule\n",
    "dataloader = SyntheticDataModule(num_samples=1000, max_length=hparams['max_length'],\n",
    "                                  batch_size=hparams['batch_size'], vocab_size=hparams['vocab_size'])"
   ]
  },
  {
   "cell_type": "code",
   "execution_count": null,
   "metadata": {},
   "outputs": [
    {
     "name": "stderr",
     "output_type": "stream",
     "text": [
      "GPU available: True (mps), used: False\n",
      "TPU available: False, using: 0 TPU cores\n",
      "HPU available: False, using: 0 HPUs\n",
      "/Users/carlomarx/.local/share/virtualenvs/life2vec-light-Ez8u7ZRp-python/lib/python3.11/site-packages/pytorch_lightning/trainer/setup.py:177: GPU available but not used. You can set it by doing `Trainer(accelerator='gpu')`.\n",
      "/Users/carlomarx/.local/share/virtualenvs/life2vec-light-Ez8u7ZRp-python/lib/python3.11/site-packages/pytorch_lightning/trainer/connectors/logger_connector/logger_connector.py:75: Starting from v1.9.0, `tensorboardX` has been removed as a dependency of the `pytorch_lightning` package, due to potential conflicts with other packages in the ML ecosystem. For this reason, `logger=True` will use `CSVLogger` as the default logger, unless the `tensorboard` or `tensorboardX` packages are found. Please `pip install lightning[extra]` or one of them to enable TensorBoard support by default\n",
      "\n",
      "   | Name        | Type                   | Params | Mode \n",
      "----------------------------------------------------------------\n",
      "0  | transformer | Transformer            | 79.5 K | train\n",
      "1  | decoder     | CLS_Decoder            | 2.4 K  | train\n",
      "2  | loss        | BCEWithLogitsLoss      | 0      | train\n",
      "3  | train_loss  | MeanMetric             | 0      | train\n",
      "4  | val_loss    | MeanMetric             | 0      | train\n",
      "5  | test_loss   | MeanMetric             | 0      | train\n",
      "6  | train_acc   | BinaryAccuracy         | 0      | train\n",
      "7  | val_acc     | BinaryAccuracy         | 0      | train\n",
      "8  | test_acc    | BinaryAccuracy         | 0      | train\n",
      "9  | train_mcc   | BinaryMatthewsCorrCoef | 0      | train\n",
      "10 | val_mcc     | BinaryMatthewsCorrCoef | 0      | train\n",
      "11 | test_mcc    | BinaryMatthewsCorrCoef | 0      | train\n",
      "----------------------------------------------------------------\n",
      "81.9 K    Trainable params\n",
      "0         Non-trainable params\n",
      "81.9 K    Total params\n",
      "0.328     Total estimated model params size (MB)\n"
     ]
    },
    {
     "name": "stdout",
     "output_type": "stream",
     "text": [
      "Sanity Checking DataLoader 0: 100%|██████████| 8/8 [00:00<00:00, 118.21it/s]\n",
      "Val Metrics\n",
      "\tLoss: 0.664\n",
      "\tAccuracy: 0.625\n",
      "\tMCC: 0.091\n",
      "\n",
      "                                                                            "
     ]
    },
    {
     "name": "stderr",
     "output_type": "stream",
     "text": [
      "/Users/carlomarx/.local/share/virtualenvs/life2vec-light-Ez8u7ZRp-python/lib/python3.11/site-packages/pytorch_lightning/trainer/connectors/data_connector.py:424: The 'val_dataloader' does not have many workers which may be a bottleneck. Consider increasing the value of the `num_workers` argument` to `num_workers=9` in the `DataLoader` to improve performance.\n",
      "/Users/carlomarx/.local/share/virtualenvs/life2vec-light-Ez8u7ZRp-python/lib/python3.11/site-packages/pytorch_lightning/trainer/connectors/data_connector.py:424: The 'train_dataloader' does not have many workers which may be a bottleneck. Consider increasing the value of the `num_workers` argument` to `num_workers=9` in the `DataLoader` to improve performance.\n"
     ]
    },
    {
     "name": "stdout",
     "output_type": "stream",
     "text": [
      "Epoch 0: 100%|██████████| 125/125 [00:01<00:00, 82.87it/s, v_num=6]\n",
      "Val Metrics\n",
      "\tLoss: 0.739\n",
      "\tAccuracy: 0.497\n",
      "\tMCC: -0.000\n",
      "\n",
      "Epoch 0: 100%|██████████| 125/125 [00:03<00:00, 40.64it/s, v_num=6]\n",
      "Train Metrics\n",
      "\tLoss: 0.750\n",
      "\tAccuracy: 0.504\n",
      "\tMCC: 0.001\n",
      "\n",
      "Epoch 1: 100%|██████████| 125/125 [00:01<00:00, 88.04it/s, v_num=6]\n",
      "Val Metrics\n",
      "\tLoss: 0.729\n",
      "\tAccuracy: 0.502\n",
      "\tMCC: 0.000\n",
      "\n",
      "Epoch 1: 100%|██████████| 125/125 [00:02<00:00, 43.35it/s, v_num=6]\n",
      "Train Metrics\n",
      "\tLoss: 0.744\n",
      "\tAccuracy: 0.492\n",
      "\tMCC: -0.055\n",
      "\n",
      "Epoch 2: 100%|██████████| 125/125 [00:01<00:00, 91.00it/s, v_num=6]\n",
      "Val Metrics\n",
      "\tLoss: 0.719\n",
      "\tAccuracy: 0.509\n",
      "\tMCC: 0.001\n",
      "\n",
      "Epoch 2: 100%|██████████| 125/125 [00:02<00:00, 43.56it/s, v_num=6]\n",
      "Train Metrics\n",
      "\tLoss: 0.740\n",
      "\tAccuracy: 0.489\n",
      "\tMCC: -0.014\n",
      "\n",
      "Epoch 3: 100%|██████████| 125/125 [00:01<00:00, 87.67it/s, v_num=6]\n",
      "Val Metrics\n",
      "\tLoss: 0.714\n",
      "\tAccuracy: 0.502\n",
      "\tMCC: 0.000\n",
      "\n",
      "Epoch 3: 100%|██████████| 125/125 [00:02<00:00, 42.33it/s, v_num=6]\n",
      "Train Metrics\n",
      "\tLoss: 0.732\n",
      "\tAccuracy: 0.490\n",
      "\tMCC: -0.005\n",
      "\n",
      "Epoch 4:  56%|█████▌    | 70/125 [00:00<00:00, 87.40it/s, v_num=6] "
     ]
    }
   ],
   "source": [
    "trainer = Trainer(max_epochs=30,\n",
    "                accelerator=\"cpu\",   ### change to \"cuda\" or \"gpu\" or 'msp'\n",
    "                limit_train_batches=0.5,\n",
    "                accumulate_grad_batches=4,\n",
    "                num_sanity_val_steps=8,\n",
    "                check_val_every_n_epoch=1)\n",
    "trainer.fit(model, dataloader)"
   ]
  },
  {
   "cell_type": "code",
   "execution_count": null,
   "metadata": {},
   "outputs": [],
   "source": []
  }
 ],
 "metadata": {
  "kernelspec": {
   "display_name": "life2vec-light-Ez8u7ZRp-python",
   "language": "python",
   "name": "python3"
  },
  "language_info": {
   "codemirror_mode": {
    "name": "ipython",
    "version": 3
   },
   "file_extension": ".py",
   "mimetype": "text/x-python",
   "name": "python",
   "nbconvert_exporter": "python",
   "pygments_lexer": "ipython3",
   "version": "3.11.9"
  }
 },
 "nbformat": 4,
 "nbformat_minor": 2
}
