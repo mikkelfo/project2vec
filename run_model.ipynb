{
 "cells": [
  {
   "cell_type": "code",
   "execution_count": 1,
   "metadata": {},
   "outputs": [
    {
     "name": "stderr",
     "output_type": "stream",
     "text": [
      "/Users/carlomarx/.local/share/virtualenvs/project2vec-D-jEdA35-python/lib/python3.11/site-packages/tqdm/auto.py:21: TqdmWarning: IProgress not found. Please update jupyter and ipywidgets. See https://ipywidgets.readthedocs.io/en/stable/user_install.html\n",
      "  from .autonotebook import tqdm as notebook_tqdm\n"
     ]
    }
   ],
   "source": [
    "from models.classifier import TransformerEncoder\n",
    "import torch"
   ]
  },
  {
   "cell_type": "code",
   "execution_count": 2,
   "metadata": {},
   "outputs": [],
   "source": [
    "hparams = {\n",
    "    \"hidden_size\": 48,  # size of the hidden layers and embeddings\n",
    "    \"hidden_ff\": 96,  # size of the position-wise feed-forward layer\n",
    "    \"n_encoders\": 4,  # number of encoder blocks\n",
    "    \"n_heads\": 2,  # number of attention heads in the multiheadattention module\n",
    "    \"n_local\": 2,  # number of local attention heads\n",
    "    \"local_window_size\": 4,  # size of the window for local attention\n",
    "    'batch_size': 4,\n",
    "    \"max_length\": 30,  # maximum length of the input sequence\n",
    "    \"vocab_size\": 100,  # size of the vocabulary\n",
    "    \"learning_rate\": 0.001,\n",
    "    \"num_epochs\": 30,\n",
    "    \"attention_type\": \"performer\",\n",
    "    \"norm_type\": \"rezero\",\n",
    "    \"num_random_features\": 32,  # number of random features for the Attention module (Performer uses this)\n",
    "    \"emb_dropout\": 0.1,  # dropout for the embedding block\n",
    "    \"fw_dropout\": 0.1,  # dropout for the position-wise feed-forward layer\n",
    "    \"att_dropout\": 0.1,  # dropout for the multiheadattention module\n",
    "    \"dc_dropout\": 0.1,  # dropout for the decoder block\n",
    "    \"hidden_act\": \"swish\",  # activation function for the hidden layers (attention layers use ReLU)\n",
    "    \"epsilon\": 1e-8,\n",
    "    \"weight_decay\": 0.01,\n",
    "    \"beta1\": 0.9,\n",
    "    \"beta2\": 0.999,\n",
    "}\n",
    "model = TransformerEncoder(hparams)"
   ]
  },
  {
   "cell_type": "markdown",
   "metadata": {},
   "source": [
    "# Sanity Check\n",
    "Check if returns values and if the output looks OK."
   ]
  },
  {
   "cell_type": "code",
   "execution_count": 3,
   "metadata": {},
   "outputs": [],
   "source": [
    "batch = {\n",
    "    'tokens': torch.randint(0, model.hparams.vocab_size, (model.hparams.batch_size, model.hparams.max_length)),\n",
    "    'abspos': torch.arange(0, model.hparams.max_length).unsqueeze(0).repeat(model.hparams.batch_size, 1),\n",
    "    'age': torch.randint(0, 100, (model.hparams.batch_size, 1)).repeat(1, model.hparams.max_length),\n",
    "    'padding_mask': torch.zeros(model.hparams.batch_size, model.hparams.max_length),\n",
    "    'targets': torch.randint(0, 2, (model.hparams.batch_size, 1)).float(),\n",
    "}"
   ]
  },
  {
   "cell_type": "code",
   "execution_count": 4,
   "metadata": {},
   "outputs": [
    {
     "data": {
      "text/plain": [
       "{'tokens': tensor([[23, 58, 67, 21, 36, 88, 63, 67, 37, 15, 10, 11, 80,  1, 78, 55, 47, 18,\n",
       "          63, 72, 54, 66, 36, 15, 11, 96, 36, 32, 41, 60],\n",
       "         [67, 87, 32, 85, 23, 53, 25, 79, 49, 56, 54, 10,  8, 83, 32, 22, 87, 14,\n",
       "          55,  5, 92, 29,  5, 22,  5, 12, 35, 40, 20, 10],\n",
       "         [20, 93, 52, 66, 39, 99, 58, 12, 24, 64,  0, 37, 10, 94, 83, 10,  0, 36,\n",
       "          74, 82,  1,  6, 64, 20, 51,  2, 39, 85, 42,  8],\n",
       "         [32, 14, 83, 95, 65, 53,  2,  5,  1, 89, 83, 47, 61, 13, 26, 75, 80, 66,\n",
       "          23, 64, 80,  4, 21, 42, 58, 68, 66, 34, 30, 76]]),\n",
       " 'abspos': tensor([[ 0,  1,  2,  3,  4,  5,  6,  7,  8,  9, 10, 11, 12, 13, 14, 15, 16, 17,\n",
       "          18, 19, 20, 21, 22, 23, 24, 25, 26, 27, 28, 29],\n",
       "         [ 0,  1,  2,  3,  4,  5,  6,  7,  8,  9, 10, 11, 12, 13, 14, 15, 16, 17,\n",
       "          18, 19, 20, 21, 22, 23, 24, 25, 26, 27, 28, 29],\n",
       "         [ 0,  1,  2,  3,  4,  5,  6,  7,  8,  9, 10, 11, 12, 13, 14, 15, 16, 17,\n",
       "          18, 19, 20, 21, 22, 23, 24, 25, 26, 27, 28, 29],\n",
       "         [ 0,  1,  2,  3,  4,  5,  6,  7,  8,  9, 10, 11, 12, 13, 14, 15, 16, 17,\n",
       "          18, 19, 20, 21, 22, 23, 24, 25, 26, 27, 28, 29]]),\n",
       " 'age': tensor([[55, 55, 55, 55, 55, 55, 55, 55, 55, 55, 55, 55, 55, 55, 55, 55, 55, 55,\n",
       "          55, 55, 55, 55, 55, 55, 55, 55, 55, 55, 55, 55],\n",
       "         [23, 23, 23, 23, 23, 23, 23, 23, 23, 23, 23, 23, 23, 23, 23, 23, 23, 23,\n",
       "          23, 23, 23, 23, 23, 23, 23, 23, 23, 23, 23, 23],\n",
       "         [69, 69, 69, 69, 69, 69, 69, 69, 69, 69, 69, 69, 69, 69, 69, 69, 69, 69,\n",
       "          69, 69, 69, 69, 69, 69, 69, 69, 69, 69, 69, 69],\n",
       "         [56, 56, 56, 56, 56, 56, 56, 56, 56, 56, 56, 56, 56, 56, 56, 56, 56, 56,\n",
       "          56, 56, 56, 56, 56, 56, 56, 56, 56, 56, 56, 56]]),\n",
       " 'padding_mask': tensor([[0., 0., 0., 0., 0., 0., 0., 0., 0., 0., 0., 0., 0., 0., 0., 0., 0., 0., 0., 0., 0., 0., 0., 0.,\n",
       "          0., 0., 0., 0., 0., 0.],\n",
       "         [0., 0., 0., 0., 0., 0., 0., 0., 0., 0., 0., 0., 0., 0., 0., 0., 0., 0., 0., 0., 0., 0., 0., 0.,\n",
       "          0., 0., 0., 0., 0., 0.],\n",
       "         [0., 0., 0., 0., 0., 0., 0., 0., 0., 0., 0., 0., 0., 0., 0., 0., 0., 0., 0., 0., 0., 0., 0., 0.,\n",
       "          0., 0., 0., 0., 0., 0.],\n",
       "         [0., 0., 0., 0., 0., 0., 0., 0., 0., 0., 0., 0., 0., 0., 0., 0., 0., 0., 0., 0., 0., 0., 0., 0.,\n",
       "          0., 0., 0., 0., 0., 0.]]),\n",
       " 'targets': tensor([[1.],\n",
       "         [0.],\n",
       "         [0.],\n",
       "         [1.]])}"
      ]
     },
     "execution_count": 4,
     "metadata": {},
     "output_type": "execute_result"
    }
   ],
   "source": [
    "batch"
   ]
  },
  {
   "cell_type": "code",
   "execution_count": 5,
   "metadata": {},
   "outputs": [
    {
     "data": {
      "text/plain": [
       "{'logits': tensor([[ 0.3596],\n",
       "         [-0.1310],\n",
       "         [ 0.5776],\n",
       "         [ 0.3937]], grad_fn=<AddmmBackward0>),\n",
       " 'preds': tensor([[0.5890],\n",
       "         [0.4673],\n",
       "         [0.6405],\n",
       "         [0.5972]], grad_fn=<SigmoidBackward0>)}"
      ]
     },
     "execution_count": 5,
     "metadata": {},
     "output_type": "execute_result"
    }
   ],
   "source": [
    "model(batch)"
   ]
  },
  {
   "cell_type": "code",
   "execution_count": 6,
   "metadata": {},
   "outputs": [
    {
     "name": "stderr",
     "output_type": "stream",
     "text": [
      "/Users/carlomarx/.local/share/virtualenvs/project2vec-D-jEdA35-python/lib/python3.11/site-packages/pytorch_lightning/core/module.py:447: You are trying to `self.log()` but the `self.trainer` reference is not registered on the model yet. This is most likely because the model hasn't been passed to the `Trainer`\n"
     ]
    },
    {
     "data": {
      "text/plain": [
       "tensor(0.6200, grad_fn=<BinaryCrossEntropyWithLogitsBackward0>)"
      ]
     },
     "execution_count": 6,
     "metadata": {},
     "output_type": "execute_result"
    }
   ],
   "source": [
    "model.training_step(batch, 0)"
   ]
  },
  {
   "cell_type": "code",
   "execution_count": 7,
   "metadata": {},
   "outputs": [],
   "source": [
    "model.on_train_epoch_end()"
   ]
  },
  {
   "cell_type": "markdown",
   "metadata": {},
   "source": [
    "### Full pipeline would be something like"
   ]
  },
  {
   "cell_type": "code",
   "execution_count": 8,
   "metadata": {},
   "outputs": [],
   "source": [
    "from dataloaders.synthetic import SyntheticDataModule\n",
    "\n",
    "dataloader = SyntheticDataModule(num_samples=1000, max_length=hparams['max_length'],\n",
    "                                  batch_size=hparams['batch_size'], vocab_size=hparams['vocab_size'])"
   ]
  },
  {
   "cell_type": "code",
   "execution_count": 9,
   "metadata": {},
   "outputs": [
    {
     "name": "stderr",
     "output_type": "stream",
     "text": [
      "GPU available: True (mps), used: False\n",
      "TPU available: False, using: 0 TPU cores\n",
      "HPU available: False, using: 0 HPUs\n",
      "/Users/carlomarx/.local/share/virtualenvs/project2vec-D-jEdA35-python/lib/python3.11/site-packages/pytorch_lightning/trainer/setup.py:177: GPU available but not used. You can set it by doing `Trainer(accelerator='gpu')`.\n"
     ]
    }
   ],
   "source": [
    "from pytorch_lightning.callbacks import ModelCheckpoint, EarlyStopping\n",
    "from pytorch_lightning import Trainer\n",
    "from pytorch_lightning.loggers import TensorBoardLogger\n",
    "\n",
    "model_checkpoint = ModelCheckpoint(monitor='val/ap', save_top_k=2, save_last=True, mode='max')\n",
    "early_stopping = EarlyStopping(monitor='val/ap', patience=5, mode='max')\n",
    "logger = TensorBoardLogger(\"lightning_logs\", name=\"cls_logs\")\n",
    "\n",
    "trainer = Trainer(max_epochs=30,\n",
    "                accelerator=\"cpu\",   ### change to \"cuda\" or \"gpu\" or 'msp'\n",
    "                limit_train_batches=0.5,\n",
    "                logger=logger,\n",
    "                accumulate_grad_batches=4,\n",
    "                num_sanity_val_steps=8,\n",
    "                callbacks = [model_checkpoint, early_stopping],\n",
    "                check_val_every_n_epoch=1)\n"
   ]
  },
  {
   "cell_type": "code",
   "execution_count": 10,
   "metadata": {},
   "outputs": [
    {
     "name": "stderr",
     "output_type": "stream",
     "text": [
      "Missing logger folder: lightning_logs/cls_logs\n",
      "\n",
      "   | Name        | Type                   | Params | Mode \n",
      "----------------------------------------------------------------\n",
      "0  | transformer | Transformer            | 79.5 K | train\n",
      "1  | decoder     | CLS_Decoder            | 2.4 K  | train\n",
      "2  | loss        | BCEWithLogitsLoss      | 0      | train\n",
      "3  | train_loss  | MeanMetric             | 0      | train\n",
      "4  | val_loss    | MeanMetric             | 0      | train\n",
      "5  | test_loss   | MeanMetric             | 0      | train\n",
      "6  | train_acc   | BinaryAccuracy         | 0      | train\n",
      "7  | val_acc     | BinaryAccuracy         | 0      | train\n",
      "8  | test_acc    | BinaryAccuracy         | 0      | train\n",
      "9  | train_mcc   | BinaryMatthewsCorrCoef | 0      | train\n",
      "10 | val_mcc     | BinaryMatthewsCorrCoef | 0      | train\n",
      "11 | test_mcc    | BinaryMatthewsCorrCoef | 0      | train\n",
      "12 | train_ap    | BinaryAveragePrecision | 0      | train\n",
      "13 | val_ap      | BinaryAveragePrecision | 0      | train\n",
      "14 | test_ap     | BinaryAveragePrecision | 0      | train\n",
      "----------------------------------------------------------------\n",
      "81.9 K    Trainable params\n",
      "0         Non-trainable params\n",
      "81.9 K    Total params\n",
      "0.328     Total estimated model params size (MB)\n"
     ]
    },
    {
     "name": "stdout",
     "output_type": "stream",
     "text": [
      "                                                                           "
     ]
    },
    {
     "name": "stderr",
     "output_type": "stream",
     "text": [
      "/Users/carlomarx/.local/share/virtualenvs/project2vec-D-jEdA35-python/lib/python3.11/site-packages/pytorch_lightning/trainer/connectors/data_connector.py:424: The 'val_dataloader' does not have many workers which may be a bottleneck. Consider increasing the value of the `num_workers` argument` to `num_workers=9` in the `DataLoader` to improve performance.\n",
      "/Users/carlomarx/.local/share/virtualenvs/project2vec-D-jEdA35-python/lib/python3.11/site-packages/torchmetrics/utilities/prints.py:43: UserWarning: No positive samples found in target, recall is undefined. Setting recall to one for all thresholds.\n",
      "  warnings.warn(*args, **kwargs)  # noqa: B028\n",
      "/Users/carlomarx/.local/share/virtualenvs/project2vec-D-jEdA35-python/lib/python3.11/site-packages/pytorch_lightning/trainer/connectors/data_connector.py:424: The 'train_dataloader' does not have many workers which may be a bottleneck. Consider increasing the value of the `num_workers` argument` to `num_workers=9` in the `DataLoader` to improve performance.\n"
     ]
    },
    {
     "name": "stdout",
     "output_type": "stream",
     "text": [
      "Epoch 4: 100%|██████████| 125/125 [00:01<00:00, 69.19it/s, v_num=0]"
     ]
    },
    {
     "name": "stderr",
     "output_type": "stream",
     "text": [
      "/Users/carlomarx/.local/share/virtualenvs/project2vec-D-jEdA35-python/lib/python3.11/site-packages/pytorch_lightning/trainer/call.py:54: Detected KeyboardInterrupt, attempting graceful shutdown...\n"
     ]
    }
   ],
   "source": [
    "trainer.fit(model, dataloader)"
   ]
  },
  {
   "cell_type": "code",
   "execution_count": null,
   "metadata": {},
   "outputs": [],
   "source": []
  }
 ],
 "metadata": {
  "kernelspec": {
   "display_name": "project2vec-D-jEdA35-python",
   "language": "python",
   "name": "python3"
  },
  "language_info": {
   "codemirror_mode": {
    "name": "ipython",
    "version": 3
   },
   "file_extension": ".py",
   "mimetype": "text/x-python",
   "name": "python",
   "nbconvert_exporter": "python",
   "pygments_lexer": "ipython3",
   "version": "3.11.9"
  }
 },
 "nbformat": 4,
 "nbformat_minor": 2
}
